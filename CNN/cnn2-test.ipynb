{
 "nbformat": 4,
 "nbformat_minor": 2,
 "metadata": {
  "language_info": {
   "name": "python",
   "codemirror_mode": {
    "name": "ipython",
    "version": 3
   },
   "version": "3.7.4"
  },
  "orig_nbformat": 2,
  "file_extension": ".py",
  "mimetype": "text/x-python",
  "name": "python",
  "npconvert_exporter": "python",
  "pygments_lexer": "ipython3",
  "version": 3
 },
 "cells": [
  {
   "cell_type": "code",
   "execution_count": 1,
   "metadata": {},
   "outputs": [],
   "source": [
    "import numpy as np\n",
    "from cnn2 import *"
   ]
  },
  {
   "cell_type": "code",
   "execution_count": 2,
   "metadata": {},
   "outputs": [],
   "source": [
    "batch_size = 64\n",
    "conv1 = Conv2D([batch_size,28,28,1],12,5,1)\n",
    "relu1 = Relu(conv1.output_shape)\n",
    "pool1 = MaxPooling(relu1.output_shape)\n",
    "conv2 = Conv2D(pool1.output_shape,24,3,1)\n",
    "relu2 = Relu(conv2.output_shape)\n",
    "pool2 = MaxPooling(relu2.output_shape)\n",
    "fc = FullyConnect(pool2.output_shape,10)\n",
    "sf = Softmax(fc.output_shape)"
   ]
  },
  {
   "cell_type": "code",
   "execution_count": null,
   "metadata": {},
   "outputs": [],
   "source": []
  }
 ]
}